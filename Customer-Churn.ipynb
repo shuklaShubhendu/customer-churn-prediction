{
 "cells": [
  {
   "cell_type": "code",
   "execution_count": 5,
   "id": "385eb34f",
   "metadata": {},
   "outputs": [
    {
     "name": "stderr",
     "output_type": "stream",
     "text": [
      "d:\\Organized\\Projects\\DATA Science\\venv\\Lib\\site-packages\\tqdm\\auto.py:21: TqdmWarning: IProgress not found. Please update jupyter and ipywidgets. See https://ipywidgets.readthedocs.io/en/stable/user_install.html\n",
      "  from .autonotebook import tqdm as notebook_tqdm\n"
     ]
    }
   ],
   "source": [
    "import pandas as pd\n",
    "import numpy as np\n",
    "import matplotlib.pyplot as plt\n",
    "import seaborn as sns\n",
    "from sklearn.model_selection import train_test_split, GridSearchCV\n",
    "from sklearn.preprocessing import LabelEncoder, StandardScaler\n",
    "from sklearn.metrics import classification_report, roc_auc_score, roc_curve, precision_recall_curve, confusion_matrix\n",
    "from imblearn.over_sampling import SMOTE\n",
    "from xgboost import XGBClassifier\n",
    "import shap\n",
    "from textblob import TextBlob\n",
    "import streamlit as st\n",
    "import plotly.express as px\n",
    "import plotly.graph_objects as go\n",
    "import joblib\n",
    "import warnings\n",
    "warnings.filterwarnings('ignore')"
   ]
  },
  {
   "cell_type": "markdown",
   "id": "476cd893",
   "metadata": {},
   "source": [
    "# Load dataset\n"
   ]
  },
  {
   "cell_type": "code",
   "execution_count": 7,
   "id": "4489c646",
   "metadata": {},
   "outputs": [],
   "source": [
    "df = pd.read_csv('WA_Fn-UseC_-Telco-Customer-Churn.csv')\n"
   ]
  },
  {
   "cell_type": "markdown",
   "id": "7fe9656d",
   "metadata": {},
   "source": [
    "#  Data Preprocessing"
   ]
  },
  {
   "cell_type": "code",
   "execution_count": 8,
   "id": "eaaa3ee1",
   "metadata": {},
   "outputs": [],
   "source": [
    "df.replace('No internet service', 'No', inplace=True)\n",
    "df.replace('No phone service', 'No', inplace=True)\n",
    "df['TotalCharges'] = pd.to_numeric(df['TotalCharges'], errors='coerce')\n",
    "df['TotalCharges'].fillna(df['TotalCharges'].median(), inplace=True)\n",
    "df.drop('customerID', axis=1, inplace=True)\n"
   ]
  },
  {
   "cell_type": "markdown",
   "id": "c2c989f7",
   "metadata": {},
   "source": [
    "# Encode categorical variables"
   ]
  },
  {
   "cell_type": "code",
   "execution_count": 9,
   "id": "39d712ac",
   "metadata": {},
   "outputs": [],
   "source": [
    "le = LabelEncoder()\n",
    "for column in df.select_dtypes(include='object').columns:\n",
    "    df[column] = le.fit_transform(df[column])"
   ]
  },
  {
   "cell_type": "markdown",
   "id": "5340c1c2",
   "metadata": {},
   "source": [
    "#  Feature Engineering "
   ]
  },
  {
   "cell_type": "code",
   "execution_count": 10,
   "id": "bb763a60",
   "metadata": {},
   "outputs": [],
   "source": [
    "df['TenureGroup'] = pd.cut(df['tenure'], bins=[0, 12, 24, 48, 60, np.inf], \n",
    "                          labels=['0-12', '13-24', '25-48', '49-60', '60+'])\n",
    "df['TenureGroup'] = le.fit_transform(df['TenureGroup'])\n",
    "df['MonthlyToTotalRatio'] = df['MonthlyCharges'] / (df['TotalCharges'] + 1e-5)  # Avoid division by zero\n"
   ]
  },
  {
   "cell_type": "markdown",
   "id": "95cb31c3",
   "metadata": {},
   "source": [
    "Synthetic NLP feature: Customer feedback sentiment"
   ]
  },
  {
   "cell_type": "code",
   "execution_count": 11,
   "id": "b6fc9e3c",
   "metadata": {},
   "outputs": [],
   "source": [
    "np.random.seed(42)\n",
    "feedback = ['Great service, very satisfied' if np.random.rand() > 0.4 else \n",
    "            'Poor support, slow response' if np.random.rand() > 0.2 else \n",
    "            'Average experience' for _ in range(len(df))]\n",
    "df['FeedbackSentiment'] = [TextBlob(text).sentiment.polarity for text in feedback]\n"
   ]
  },
  {
   "cell_type": "markdown",
   "id": "8bb85ece",
   "metadata": {},
   "source": [
    " Define features and target"
   ]
  },
  {
   "cell_type": "code",
   "execution_count": 12,
   "id": "e33b9c6d",
   "metadata": {},
   "outputs": [],
   "source": [
    "X = df.drop('Churn', axis=1)\n",
    "y = df['Churn']"
   ]
  },
  {
   "cell_type": "markdown",
   "id": "cde3b04f",
   "metadata": {},
   "source": [
    "Scale numerical features"
   ]
  },
  {
   "cell_type": "code",
   "execution_count": 13,
   "id": "d90dbd92",
   "metadata": {},
   "outputs": [],
   "source": [
    "scaler = StandardScaler()\n",
    "numerical_cols = ['tenure', 'MonthlyCharges', 'TotalCharges', 'FeedbackSentiment', 'MonthlyToTotalRatio']\n",
    "X[numerical_cols] = scaler.fit_transform(X[numerical_cols])"
   ]
  },
  {
   "cell_type": "markdown",
   "id": "6eab34d2",
   "metadata": {},
   "source": [
    "#  Handle Class Imbalance "
   ]
  },
  {
   "cell_type": "code",
   "execution_count": 14,
   "id": "3b95dad1",
   "metadata": {},
   "outputs": [],
   "source": [
    "smote = SMOTE(random_state=42)\n",
    "X_resampled, y_resampled = smote.fit_resample(X, y)"
   ]
  },
  {
   "cell_type": "code",
   "execution_count": 15,
   "id": "53397364",
   "metadata": {},
   "outputs": [],
   "source": [
    "X_train, X_test, y_train, y_test = train_test_split(X_resampled, y_resampled, test_size=0.2, random_state=42)\n"
   ]
  },
  {
   "cell_type": "markdown",
   "id": "512bf01d",
   "metadata": {},
   "source": [
    " Model Training with Hyperparameter Tuning "
   ]
  },
  {
   "cell_type": "code",
   "execution_count": 16,
   "id": "f7bfc50e",
   "metadata": {},
   "outputs": [],
   "source": [
    "param_grid = {\n",
    "    'n_estimators': [100, 200],\n",
    "    'max_depth': [3, 5, 7],\n",
    "    'learning_rate': [0.01, 0.1]\n",
    "}\n",
    "model = XGBClassifier(random_state=42, eval_metric='logloss')\n",
    "grid_search = GridSearchCV(model, param_grid, cv=5, scoring='roc_auc', n_jobs=-1)\n",
    "grid_search.fit(X_train, y_train)\n",
    "best_model = grid_search.best_estimator_"
   ]
  },
  {
   "cell_type": "markdown",
   "id": "2a96bce1",
   "metadata": {},
   "source": [
    "Model Evaluation"
   ]
  },
  {
   "cell_type": "code",
   "execution_count": 17,
   "id": "1dca39a2",
   "metadata": {},
   "outputs": [
    {
     "name": "stdout",
     "output_type": "stream",
     "text": [
      "Classification Report:\n",
      "              precision    recall  f1-score   support\n",
      "\n",
      "           0       0.86      0.82      0.84      1021\n",
      "           1       0.83      0.87      0.85      1049\n",
      "\n",
      "    accuracy                           0.84      2070\n",
      "   macro avg       0.84      0.84      0.84      2070\n",
      "weighted avg       0.84      0.84      0.84      2070\n",
      "\n",
      "AUC-ROC: 0.92\n"
     ]
    }
   ],
   "source": [
    "y_pred = best_model.predict(X_test)\n",
    "y_pred_proba = best_model.predict_proba(X_test)[:, 1]\n",
    "print(\"Classification Report:\")\n",
    "print(classification_report(y_test, y_pred))\n",
    "print(f\"AUC-ROC: {roc_auc_score(y_test, y_pred_proba):.2f}\")"
   ]
  },
  {
   "cell_type": "code",
   "execution_count": 18,
   "id": "40a4257c",
   "metadata": {},
   "outputs": [],
   "source": [
    "import matplotlib.pyplot as plt"
   ]
  },
  {
   "cell_type": "markdown",
   "id": "b024ad13",
   "metadata": {},
   "source": [
    "# Visualizations \n"
   ]
  },
  {
   "cell_type": "markdown",
   "id": "a1224f6b",
   "metadata": {},
   "source": [
    "1. Churn Distribution"
   ]
  },
  {
   "cell_type": "code",
   "execution_count": 21,
   "id": "96eb9247",
   "metadata": {},
   "outputs": [],
   "source": [
    "plt.figure(figsize=(8, 5))\n",
    "sns.countplot(x='Churn', data=df)\n",
    "plt.title('Churn Distribution', fontsize=14, pad=10)\n",
    "plt.xlabel('Churn', fontsize=12)\n",
    "plt.ylabel('Count', fontsize=12)\n",
    "plt.savefig('churn_distribution.png', bbox_inches='tight', dpi=300)\n",
    "plt.close()\n"
   ]
  },
  {
   "cell_type": "markdown",
   "id": "e8505d25",
   "metadata": {},
   "source": [
    " 2. Correlation Heatmap"
   ]
  },
  {
   "cell_type": "code",
   "execution_count": 25,
   "id": "6d9448d3",
   "metadata": {},
   "outputs": [],
   "source": [
    "plt.figure(figsize=(12, 8))\n",
    "sns.heatmap(df.corr(), annot=False, cmap='coolwarm', linewidths=0.5)\n",
    "plt.title('Correlation Heatmap', fontsize=14, pad=10)\n",
    "plt.savefig('correlation_heatmap.png', bbox_inches='tight', dpi=300)\n",
    "plt.close()\n",
    "\n"
   ]
  },
  {
   "cell_type": "markdown",
   "id": "18393d9b",
   "metadata": {},
   "source": [
    "3. Pair Plot for Key Numerical Features"
   ]
  },
  {
   "cell_type": "code",
   "execution_count": 24,
   "id": "d5968269",
   "metadata": {},
   "outputs": [],
   "source": [
    "sns.pairplot(df[numerical_cols + ['Churn']], hue='Churn', palette='deep')\n",
    "plt.suptitle('Pair Plot of Numerical Features by Churn', y=1.02, fontsize=14)\n",
    "plt.savefig('pair_plot.png', bbox_inches='tight', dpi=300)\n",
    "plt.close()"
   ]
  },
  {
   "cell_type": "markdown",
   "id": "7a922ab2",
   "metadata": {},
   "source": [
    "4. Box Plots for Numerical Features"
   ]
  },
  {
   "cell_type": "code",
   "execution_count": 26,
   "id": "cc5c9335",
   "metadata": {},
   "outputs": [],
   "source": [
    "fig, axes = plt.subplots(1, 3, figsize=(15, 5))\n",
    "for i, col in enumerate(['tenure', 'MonthlyCharges', 'TotalCharges']):\n",
    "    sns.boxplot(x='Churn', y=col, data=df, ax=axes[i])\n",
    "    axes[i].set_title(f'{col} by Churn', fontsize=12)\n",
    "plt.tight_layout()\n",
    "plt.savefig('box_plots.png', bbox_inches='tight', dpi=300)\n",
    "plt.close()"
   ]
  },
  {
   "cell_type": "markdown",
   "id": "75d4758a",
   "metadata": {},
   "source": [
    " 5. Violin Plot for Tenure"
   ]
  },
  {
   "cell_type": "code",
   "execution_count": 27,
   "id": "9802cd95",
   "metadata": {},
   "outputs": [],
   "source": [
    "plt.figure(figsize=(8, 5))\n",
    "sns.violinplot(x='Churn', y='tenure', data=df, palette='deep')\n",
    "plt.title('Tenure Distribution by Churn', fontsize=14, pad=10)\n",
    "plt.xlabel('Churn', fontsize=12)\n",
    "plt.ylabel('Tenure', fontsize=12)\n",
    "plt.savefig('violin_plot.png', bbox_inches='tight', dpi=300)\n",
    "plt.close()"
   ]
  },
  {
   "cell_type": "markdown",
   "id": "278258ed",
   "metadata": {},
   "source": [
    "6. Confusion Matrix"
   ]
  },
  {
   "cell_type": "code",
   "execution_count": 28,
   "id": "c4071241",
   "metadata": {},
   "outputs": [],
   "source": [
    "plt.figure(figsize=(8, 5))\n",
    "sns.violinplot(x='Churn', y='tenure', data=df, palette='deep')\n",
    "plt.title('Tenure Distribution by Churn', fontsize=14, pad=10)\n",
    "plt.xlabel('Churn', fontsize=12)\n",
    "plt.ylabel('Tenure', fontsize=12)\n",
    "plt.savefig('violin_plot.png', bbox_inches='tight', dpi=300)\n",
    "plt.close()"
   ]
  },
  {
   "cell_type": "markdown",
   "id": "bfe4d904",
   "metadata": {},
   "source": [
    "7. ROC Curve"
   ]
  },
  {
   "cell_type": "code",
   "execution_count": 29,
   "id": "0b80a39e",
   "metadata": {},
   "outputs": [],
   "source": [
    "fpr, tpr, _ = roc_curve(y_test, y_pred_proba)\n",
    "plt.figure(figsize=(8, 5))\n",
    "plt.plot(fpr, tpr, label=f'ROC Curve (AUC = {roc_auc_score(y_test, y_pred_proba):.2f})', linewidth=2)\n",
    "plt.plot([0, 1], [0, 1], 'k--')\n",
    "plt.xlabel('False Positive Rate', fontsize=12)\n",
    "plt.ylabel('True Positive Rate', fontsize=12)\n",
    "plt.title('ROC Curve', fontsize=14, pad=10)\n",
    "plt.legend(fontsize=10)\n",
    "plt.savefig('roc_curve.png', bbox_inches='tight', dpi=300)\n",
    "plt.close()"
   ]
  },
  {
   "cell_type": "markdown",
   "id": "8b2c195b",
   "metadata": {},
   "source": [
    "8. Precision-Recall Curve"
   ]
  },
  {
   "cell_type": "code",
   "execution_count": 30,
   "id": "0dd60cc3",
   "metadata": {},
   "outputs": [],
   "source": [
    "precision, recall, _ = precision_recall_curve(y_test, y_pred_proba)\n",
    "plt.figure(figsize=(8, 5))\n",
    "plt.plot(recall, precision, label='Precision-Recall Curve', linewidth=2)\n",
    "plt.xlabel('Recall', fontsize=12)\n",
    "plt.ylabel('Precision', fontsize=12)\n",
    "plt.title('Precision-Recall Curve', fontsize=14, pad=10)\n",
    "plt.legend(fontsize=10)\n",
    "plt.savefig('precision_recall_curve.png', bbox_inches='tight', dpi=300)\n",
    "plt.close()\n"
   ]
  },
  {
   "cell_type": "markdown",
   "id": "a3ed94da",
   "metadata": {},
   "source": [
    "9. Feature Importance from XGBoost"
   ]
  },
  {
   "cell_type": "code",
   "execution_count": 31,
   "id": "81a67c55",
   "metadata": {},
   "outputs": [],
   "source": [
    "feature_importance = pd.DataFrame({\n",
    "    'Feature': X.columns,\n",
    "    'Importance': best_model.feature_importances_\n",
    "}).sort_values(by='Importance', ascending=False)\n",
    "plt.figure(figsize=(10, 6))\n",
    "sns.barplot(x='Importance', y='Feature', data=feature_importance)\n",
    "plt.title('Feature Importance (XGBoost)', fontsize=14, pad=10)\n",
    "plt.xlabel('Importance', fontsize=12)\n",
    "plt.ylabel('Feature', fontsize=12)\n",
    "plt.savefig('feature_importance.png', bbox_inches='tight', dpi=300)\n",
    "plt.close()"
   ]
  },
  {
   "cell_type": "markdown",
   "id": "799e3fb6",
   "metadata": {},
   "source": [
    "10. SHAP Summary Plot"
   ]
  },
  {
   "cell_type": "code",
   "execution_count": 32,
   "id": "73276645",
   "metadata": {},
   "outputs": [],
   "source": [
    "explainer = shap.TreeExplainer(best_model)\n",
    "shap_values = explainer.shap_values(X_test)\n",
    "plt.figure(figsize=(10, 6))\n",
    "shap.summary_plot(shap_values, X_test, show=False)\n",
    "plt.title('SHAP Feature Importance', fontsize=14, pad=10)\n",
    "plt.savefig('shap_summary.png', bbox_inches='tight', dpi=300)\n",
    "plt.close()"
   ]
  },
  {
   "cell_type": "markdown",
   "id": "97b57383",
   "metadata": {},
   "source": [
    "11. SHAP Dependence Plot for Top Feature"
   ]
  },
  {
   "cell_type": "code",
   "execution_count": 33,
   "id": "440162e8",
   "metadata": {},
   "outputs": [
    {
     "data": {
      "text/plain": [
       "<Figure size 800x500 with 0 Axes>"
      ]
     },
     "metadata": {},
     "output_type": "display_data"
    }
   ],
   "source": [
    "plt.figure(figsize=(8, 5))\n",
    "shap.dependence_plot(feature_importance['Feature'].iloc[0], shap_values, X_test, show=False)\n",
    "plt.title(f'SHAP Dependence Plot for {feature_importance[\"Feature\"].iloc[0]}', fontsize=14, pad=10)\n",
    "plt.savefig('shap_dependence.png', bbox_inches='tight', dpi=300)\n",
    "plt.close()"
   ]
  },
  {
   "cell_type": "markdown",
   "id": "f3c66d08",
   "metadata": {},
   "source": [
    "Save test data with predictions"
   ]
  },
  {
   "cell_type": "code",
   "execution_count": null,
   "id": "9de66b7c",
   "metadata": {},
   "outputs": [],
   "source": [
    "joblib.dump(best_model, 'churn_model.pkl')\n",
    "X_test_df = pd.DataFrame(X_test, columns=X.columns)\n",
    "X_test_df['Churn_Probability'] = y_pred_proba\n",
    "X_test_df.to_csv('test_data_with_predictions.csv', index=False)"
   ]
  },
  {
   "cell_type": "code",
   "execution_count": null,
   "id": "f34471b3",
   "metadata": {},
   "outputs": [],
   "source": []
  }
 ],
 "metadata": {
  "kernelspec": {
   "display_name": "venv",
   "language": "python",
   "name": "python3"
  },
  "language_info": {
   "codemirror_mode": {
    "name": "ipython",
    "version": 3
   },
   "file_extension": ".py",
   "mimetype": "text/x-python",
   "name": "python",
   "nbconvert_exporter": "python",
   "pygments_lexer": "ipython3",
   "version": "3.12.7"
  }
 },
 "nbformat": 4,
 "nbformat_minor": 5
}
